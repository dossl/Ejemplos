{
  "nbformat": 4,
  "nbformat_minor": 0,
  "metadata": {
    "colab": {
      "provenance": [],
      "authorship_tag": "ABX9TyNQeCt3Io5Phs7rbsgVdo7r",
      "include_colab_link": true
    },
    "kernelspec": {
      "name": "python3",
      "display_name": "Python 3"
    },
    "language_info": {
      "name": "python"
    }
  },
  "cells": [
    {
      "cell_type": "markdown",
      "metadata": {
        "id": "view-in-github",
        "colab_type": "text"
      },
      "source": [
        "<a href=\"https://colab.research.google.com/github/dossl/Ejemplos/blob/master/error_finder_file_py.ipynb\" target=\"_parent\"><img src=\"https://colab.research.google.com/assets/colab-badge.svg\" alt=\"Open In Colab\"/></a>"
      ]
    },
    {
      "cell_type": "code",
      "execution_count": null,
      "metadata": {
        "id": "smx_FxL33sr9"
      },
      "outputs": [],
      "source": [
        "import numpy\n",
        "strtx=\"\"\n",
        "strrx=\"\"\n",
        "errorCount=0\n",
        "processDelay=194\n",
        "tx = numpy.fromfile(open(\"tx-bits.txt\"), dtype=numpy.byte)\n",
        "rx = numpy.fromfile(open(\"rx-bits.txt\"), dtype=numpy.byte)\n",
        "numBits=min(len(tx),len(rx))-processDelay\n",
        "for i in range(0, numBits):\n",
        "    if tx[i]!=rx[processDelay+i]:\n",
        "       errorCount+=1\n",
        "    strtx=strtx+str(tx[i])+\" \"\n",
        "    strrx=strrx+str(rx[processDelay+i])+\" \"\n",
        "\n",
        "print(\"Tx[0:100]: \"+strtx[0:200])\n",
        "print(\"Rx[0:100]: \"+strtx[0:200])\n",
        "print(\"BER: \"+str(errorCount/numBits))\n",
        "print(\"Calculado sobre: \"+str(numBits)+\" bits.\")"
      ]
    }
  ]
}